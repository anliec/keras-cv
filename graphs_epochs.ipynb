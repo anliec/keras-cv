{
 "cells": [
  {
   "cell_type": "code",
   "execution_count": 1,
   "metadata": {},
   "outputs": [],
   "source": [
    "%load_ext autoreload\n",
    "%autoreload 2\n",
    "%matplotlib inline\n",
    "\n",
    "import os\n",
    "import glob\n",
    "import json\n",
    "import numpy as np\n",
    "import pandas as pd\n",
    "import sqlite3 as sql\n",
    "from collections import defaultdict\n",
    "\n",
    "import matplotlib.pyplot as plt\n",
    "import seaborn as sns\n",
    "\n",
    "from grid_search_graph import generate_plot\n",
    "\n",
    "sns.set()"
   ]
  },
  {
   "cell_type": "code",
   "execution_count": 2,
   "metadata": {},
   "outputs": [
    {
     "name": "stdout",
     "output_type": "stream",
     "text": [
      "<numpy.lib.npyio.NpzFile object at 0x7f2067a9eba8>\n",
      "<numpy.lib.npyio.NpzFile object at 0x7f20681d5668>\n",
      "<numpy.lib.npyio.NpzFile object at 0x7f2099f9c0b8>\n",
      "<numpy.lib.npyio.NpzFile object at 0x7f2067a9ebe0>\n",
      "<numpy.lib.npyio.NpzFile object at 0x7f2067a9edd8>\n",
      "dict_keys(['nn_fps', 'prediction_count', 'flops', 'dropout_rate', 'dropout_strategy', 'layers_filters', 'layer0_filter', 'layer1_filter', 'layer2_filter', 'layer3_filter', 'input_height', 'input_width', 'last_epoch', 'test'])\n"
     ]
    }
   ],
   "source": [
    "base_dir = \"/tmp/grid_search\"\n",
    "\n",
    "results = glob.glob(os.path.join(base_dir, \"*\", \"results.json\"))\n",
    "histories = glob.glob(os.path.join(base_dir, \"*\", \"history.npz\"))\n",
    "\n",
    "data = []\n",
    "for i, (r, h) in enumerate(zip(sorted(results), sorted(histories))):\n",
    "    his = np.load(h)\n",
    "    print(his)\n",
    "    with open(r, 'r') as f:\n",
    "        j = json.load(f)\n",
    "    j[\"nn_fps\"] = int(np.mean(j[\"nn_fps\"]))\n",
    "    for k, v in j[\"config\"].items():\n",
    "        j[k] = v\n",
    "    del j[\"config\"]\n",
    "    \n",
    "    if \"expansions\" in j:\n",
    "        del j[\"expansions\"]\n",
    "        \n",
    "    for l, s in enumerate(j[\"layers_filters\"]):\n",
    "        j[\"layer{}_filter\".format(l)] = s\n",
    "    j[\"layers_filters\"] = \",\".join([str(s) for s in j[\"layers_filters\"]])\n",
    "\n",
    "    del j[\"last_mAP\"]\n",
    "    \n",
    "    j[\"input_height\"] = j[\"size_value\"][0]\n",
    "    j[\"input_width\"] = j[\"size_value\"][1]\n",
    "    del j[\"size_value\"]\n",
    "    \n",
    "    maps = defaultdict(int)\n",
    "    for e, m in j['mAPs']:\n",
    "        for th, v in m.items():\n",
    "            maps[th] = max(maps[th], v)\n",
    "    del j['mAPs']\n",
    "#     for th, v in maps.items():\n",
    "#         j[\"mAP@{}\".format(th)] = v\n",
    "\n",
    "    stats = {\"TP\": {}, \"FP\": {}, \"FN\": {}}\n",
    "    e, (tp, fp, fn) = j[\"stats\"][-1]\n",
    "    for (th, tpv), fpv, fnv in zip(tp.items(), fp.values(), fn.values()):\n",
    "        stats[\"TP\"][th] = tpv\n",
    "        stats[\"FP\"][th] = fpv\n",
    "        stats[\"FN\"][th] = fnv\n",
    "    del j['stats']\n",
    "#     for name, values in stats.items():\n",
    "#         for th, v in values.items():\n",
    "#             j[\"{}@{}\".format(name, th)] = v\n",
    "    j[\"last_epoch\"] = e\n",
    "    j[\"test\"] = i\n",
    "    for th, v in maps.items():\n",
    "        j_copy = {k: v for k, v in j.items()}\n",
    "        for name, values in stats.items():\n",
    "            j_copy[name] = values[th]\n",
    "        j_copy[\"mAP\"] = v\n",
    "        j_copy[\"iou_threshold\"] = th\n",
    "        data.append(j_copy.values())\n",
    "\n",
    "df = pd.DataFrame(data, columns=j_copy.keys())\n",
    "\n",
    "con = sql.Connection(\":memory:\")\n",
    "\n",
    "con.enable_load_extension(True)\n",
    "con.load_extension(\"./extension-functions\")\n",
    "\n",
    "df.to_sql(\"glob_stats\", con)\n",
    "\n",
    "print(j.keys())"
   ]
  }
 ],
 "metadata": {
  "kernelspec": {
   "display_name": "Python 3",
   "language": "python",
   "name": "python3"
  },
  "language_info": {
   "codemirror_mode": {
    "name": "ipython",
    "version": 3
   },
   "file_extension": ".py",
   "mimetype": "text/x-python",
   "name": "python",
   "nbconvert_exporter": "python",
   "pygments_lexer": "ipython3",
   "version": "3.7.3"
  }
 },
 "nbformat": 4,
 "nbformat_minor": 2
}
