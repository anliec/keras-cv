{
 "cells": [
  {
   "cell_type": "code",
   "execution_count": null,
   "metadata": {
    "pycharm": {
     "is_executing": false
    }
   },
   "outputs": [
    {
     "name": "stderr",
     "output_type": "stream",
     "text": [
      "Using TensorFlow backend.\n"
     ]
    }
   ],
   "source": [
    "import numpy as np\n",
    "from keras import backend as K\n",
    "from keras.layers import Input, MaxPool2D, Conv2D, UpSampling2D, \\\n",
    "    Concatenate, Maximum, Add, Activation, Lambda, BatchNormalization, Softmax\n",
    "from keras.models import Model\n",
    "from keras.activations import softmax\n",
    "import math\n",
    "import cv2\n",
    "import matplotlib.pyplot as plt\n",
    "import tensorflow as tf\n",
    "%matplotlib inline\n",
    "\n",
    "from utils import *"
   ]
  },
  {
   "cell_type": "code",
   "execution_count": null,
   "metadata": {
    "pycharm": {
     "is_executing": false
    }
   },
   "outputs": [],
   "source": [
    "im = cv2.imread(\"test3.jpg\")\n",
    "im = cv2.cvtColor(im, cv2.COLOR_BGR2RGB)\n",
    "print(im.shape)\n",
    "plt.imshow(im)"
   ]
  },
  {
   "cell_type": "code",
   "execution_count": null,
   "metadata": {
    "pycharm": {
     "is_executing": false
    }
   },
   "outputs": [],
   "source": [
    "angle_count = 8\n",
    "edge_kernel_size = 7\n",
    "line_detection_filter_size = 5\n",
    "square_detection_square_size_count = 1\n",
    "square_detection_min_square_size = 5\n",
    "square_detection_max_square_size = 5\n",
    "square_detection_kernel_size = 13\n",
    "detection_filter_filter_size = 5\n",
    "detection_filter_dmz_size = 1\n",
    "detection_filter_penality = -0.1\n",
    "score_filter_size = 5\n",
    "size_filter_size = 5\n",
    "first_pyramid_output = 2\n",
    "pyramid_depth = 7\n",
    "scale_initial_value = 1000\n",
    "\n",
    "height, width, _ = im.shape\n",
    "size = [height, width]\n",
    "k = math.pow(2, pyramid_depth)\n",
    "for i, v in enumerate(size):\n",
    "    v -= (v - edge_kernel_size + 1) % k\n",
    "    size[i] = int(v)\n",
    "height, width = size\n",
    "\n",
    "input_layer = Input(shape=(height,width,3))\n",
    "edge_layer, edge_weights, edge_bias = get_edge_layer_and_weights(input_filters=3,\n",
    "                                                                 kernel_size=edge_kernel_size,\n",
    "                                                                 filters_count=angle_count,\n",
    "                                                                 padding='valid')\n",
    "line_layer, line_weights, line_bias = get_line_detection_layer_and_weights(filter_count=angle_count, \n",
    "                                                                           angle_increment=math.pi*2/angle_count, \n",
    "                                                                           filter_size=line_detection_filter_size)\n",
    "square_layer, square_weights, square_bias = get_square_detection_layer_and_weights(input_filter_count=angle_count, \n",
    "                                                                                   filter_count=square_detection_square_size_count, \n",
    "                                                                                   min_square_size=square_detection_min_square_size, \n",
    "                                                                                   max_square_size=square_detection_max_square_size, \n",
    "                                                                                   kernel_size=square_detection_kernel_size)\n",
    "max_pool_layer = MaxPool2D(pool_size=(2, 2), padding='same')\n",
    "\n",
    "\n",
    "filter_layer, filter_weights, filter_bias = get_detection_filter_layer_and_weights(filter_count=pyramid_depth - first_pyramid_output, \n",
    "                                                                                   dmz_size=detection_filter_dmz_size, \n",
    "                                                                                   other_penality=detection_filter_penality, \n",
    "                                                                                   filter_size=detection_filter_filter_size)\n",
    "\n",
    "score_layer, score_weights, score_bias = get_score_layer_and_weights(input_filter=pyramid_depth - first_pyramid_output,\n",
    "                                                                     filter_size=score_filter_size,\n",
    "                                                                     activation='sigmoid'\n",
    "                                                                    )\n",
    "\n",
    "size_layer, size_weights, size_bias = get_size_layer_and_weights(input_filter=pyramid_depth - first_pyramid_output,\n",
    "                                                                 filter_size=size_filter_size,\n",
    "                                                                 first_filter_size=line_detection_filter_size,\n",
    "                                                                 filter_size_factor=2)\n"
   ]
  },
  {
   "cell_type": "code",
   "execution_count": null,
   "metadata": {
    "pycharm": {
     "is_executing": false
    }
   },
   "outputs": [],
   "source": [
    "edges = edge_layer(input_layer)\n",
    "line = line_layer(edges)\n",
    "pool = max_pool_layer(line)\n",
    "pyramid = [pool,]\n",
    "for i in range(1, pyramid_depth):\n",
    "    line = line_layer(pyramid[-1])\n",
    "    pool = max_pool_layer(line)\n",
    "    pyramid.append(pool)\n",
    "    \n",
    "squares = [square_layer(l) for l in pyramid[first_pyramid_output:]]\n",
    "\n",
    "upsamplings = []\n",
    "for i, s in enumerate(squares):\n",
    "    n = math.pow(2, i)\n",
    "    up = UpSampling2D(size=(n, n), interpolation='bilinear')(s)\n",
    "    upsamplings.append(up)\n",
    "    \n",
    "concat = Concatenate(axis=3)(upsamplings)\n",
    "\n",
    "filtered = filter_layer(concat)\n",
    "\n",
    "score = score_layer(filtered)\n",
    "\n",
    "scale_factor = tf.Variable(scale_initial_value, name='scale_factor', dtype=np.float32)\n",
    "size_score = Lambda(lambda x: x * scale_factor)(filtered)\n",
    "size_score = Softmax(axis=-1, name=\"SoftmaxNorm\")(size_score)\n",
    "# size_score = Normalisation(axis=-1, name=\"Normalisation\")(filtered)\n",
    "# size_score = BatchNormalization(axis=-1)(filtered)\n",
    "size = size_layer(size_score)\n"
   ]
  },
  {
   "cell_type": "code",
   "execution_count": null,
   "metadata": {
    "pycharm": {
     "is_executing": false
    }
   },
   "outputs": [],
   "source": [
    "model = Model(inputs=input_layer, outputs=[score, size, filtered, size_score])\n",
    "# model.compile(\"SGD\", loss='mse')\n",
    "\n",
    "model.get_layer(\"EdgeDetector\").set_weights((edge_weights, edge_bias))\n",
    "model.get_layer(\"LineDetector\").set_weights((line_weights, line_bias))\n",
    "model.get_layer(\"SquareDetector\").set_weights((square_weights, square_bias))\n",
    "model.get_layer(\"DetectionFiltering\").set_weights((filter_weights, filter_bias))\n",
    "model.get_layer(\"Score\").set_weights((score_weights, score_bias))\n",
    "model.get_layer(\"Size\").set_weights((size_weights, score_bias))\n",
    "\n",
    "model.summary()"
   ]
  },
  {
   "cell_type": "code",
   "execution_count": null,
   "metadata": {
    "pycharm": {
     "is_executing": false
    }
   },
   "outputs": [],
   "source": [
    "input_image = cv2.resize(im, (width, height))\n",
    "input_image = input_image.astype(np.float).reshape((1,) + input_image.shape)\n",
    "input_image /= input_image.max()\n",
    "print(input_image.shape, input_image.max(), input_image.min())\n",
    "pred_list = model.predict(input_image)\n",
    "try:\n",
    "    pred_list = pred_list.reshape((-1,) + pred_list.shape)\n",
    "except AttributeError:\n",
    "    pass\n",
    "# print(pred.shape)"
   ]
  },
  {
   "cell_type": "code",
   "execution_count": null,
   "metadata": {
    "pycharm": {
     "is_executing": false
    }
   },
   "outputs": [],
   "source": [
    "for n, pred in enumerate(pred_list):\n",
    "    # print(\"pred {}: {}\".format(n, pred.shape))\n",
    "    pred_norm = pred - pred.min()\n",
    "    pred_norm = pred_norm / pred_norm.max()\n",
    "    for i in range(pred.shape[-1]):\n",
    "        plt.imshow(pred_norm[0, :, :, i], cmap='gray')\n",
    "        plt.title(\"pred {}.{}: range:[{:.3f}, {:.3f}]\".format(n,i,\n",
    "                                                              pred[0, :, :, i].min(),\n",
    "                                                              pred[0, :, :, i].max()))\n",
    "        plt.show()"
   ]
  },
  {
   "cell_type": "code",
   "execution_count": null,
   "metadata": {
    "pycharm": {
     "is_executing": false
    }
   },
   "outputs": [],
   "source": [
    "pos = np.unravel_index(np.argmax(pred_list[0][0,:,:,0]), pred_list[0].shape[1:3])\n",
    "print(pos, pred_list[0].shape)\n",
    "print(pred_list[0][0, pos[0], pos[1], 0])\n",
    "sz = pred_list[1][0, pos[0], pos[1], 0]\n",
    "print(\"Prediction: x={}, y={}, size={}\".format(pos[1], pos[0], sz))"
   ]
  },
  {
   "cell_type": "code",
   "execution_count": null,
   "metadata": {
    "pycharm": {
     "is_executing": false,
     "metadata": false,
     "name": "#%%\n"
    }
   },
   "outputs": [],
   "source": [
    "print(im.shape, pred_list[0].shape[1:3])\n",
    "fx = im.shape[1] / pred_list[0].shape[2]\n",
    "fy = im.shape[0] / pred_list[0].shape[1]\n",
    "p1 = tuple([int(round(v)) for v in ((pos[1] - sz/2) * fx, (pos[0] - sz/2) * fy)])\n",
    "p2 = tuple([int(round(v)) for v in ((pos[1] + sz/2) * fx, (pos[0] + sz/2) * fy)])\n",
    "bb_im = cv2.rectangle(im.copy(), p1, p2, (0, 255, 0), 4)\n",
    "plt.imshow(bb_im)\n",
    "plt.show()\n",
    "print(sz * fx, sz * fy)"
   ]
  },
  {
   "cell_type": "code",
   "execution_count": null,
   "metadata": {
    "pycharm": {
     "metadata": false,
     "name": "#%%\n"
    }
   },
   "outputs": [],
   "source": [
    "score_im = pred_list[0][0,:,:,0].copy()\n",
    "score_im -= score_im.min()\n",
    "score_im = score_im / score_im.max()\n",
    "score_im = cv2.cvtColor(score_im, cv2.COLOR_GRAY2RGB)\n",
    "score_im = cv2.circle(score_im, (pos[1], pos[0]), 5, (0, 255, 0), 1)\n",
    "plt.imshow(score_im)\n",
    "plt.show()"
   ]
  },
  {
   "cell_type": "code",
   "execution_count": null,
   "metadata": {},
   "outputs": [],
   "source": [
    "for p in pred_list:\n",
    "    print(p.shape)"
   ]
  },
  {
   "cell_type": "code",
   "execution_count": null,
   "metadata": {},
   "outputs": [],
   "source": [
    "print(pred_list[3].shape)\n",
    "for i in range(pred_list[3].shape[-1]):\n",
    "    print(pred_list[3][0 ,pos[0], pos[1], i])"
   ]
  },
  {
   "cell_type": "code",
   "execution_count": null,
   "metadata": {},
   "outputs": [],
   "source": [
    "print(pred_list[2].shape)\n",
    "for i in range(pred_list[2].shape[-1]):\n",
    "    print(pred_list[2][0 ,pos[0], pos[1], i])"
   ]
  },
  {
   "cell_type": "markdown",
   "metadata": {},
   "source": [
    "# Large scale tests"
   ]
  },
  {
   "cell_type": "code",
   "execution_count": null,
   "metadata": {},
   "outputs": [],
   "source": [
    "from metrics import recall\n",
    "from load_yolo_data import load_annotations_from_dir"
   ]
  },
  {
   "cell_type": "code",
   "execution_count": null,
   "metadata": {},
   "outputs": [],
   "source": [
    "size = [1920 / 2, 1080 / 2]\n",
    "k = math.pow(2, pyramid_depth)\n",
    "for i, v in enumerate(size):\n",
    "    v -= (v - edge_kernel_size + 1) % k\n",
    "    size[i] = int(v)\n",
    "print(size)"
   ]
  },
  {
   "cell_type": "code",
   "execution_count": null,
   "metadata": {},
   "outputs": [],
   "source": [
    "x, (y_score, y_size) = load_annotations_from_dir(\"data/curve\", size, \"*.jpg\")"
   ]
  },
  {
   "cell_type": "code",
   "execution_count": null,
   "metadata": {},
   "outputs": [],
   "source": []
  }
 ],
 "metadata": {
  "kernelspec": {
   "display_name": "Python 3",
   "language": "python",
   "name": "python3"
  },
  "language_info": {
   "codemirror_mode": {
    "name": "ipython",
    "version": 3
   },
   "file_extension": ".py",
   "mimetype": "text/x-python",
   "name": "python",
   "nbconvert_exporter": "python",
   "pygments_lexer": "ipython3",
   "version": "3.6.7"
  }
 },
 "nbformat": 4,
 "nbformat_minor": 2
}
